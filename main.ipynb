{
 "cells": [
  {
   "cell_type": "code",
   "execution_count": 4,
   "id": "782d50b5",
   "metadata": {},
   "outputs": [],
   "source": [
    "import pandas as pd\n",
    "import numpy as np\n",
    "import scipy as sc\n",
    "from scipy import stats\n",
    "import matplotlib.pyplot as plt\n",
    "from datetime import datetime as dt\n",
    "from datetime import timedelta, date"
   ]
  },
  {
   "cell_type": "markdown",
   "id": "b2b58a42",
   "metadata": {},
   "source": [
    "**1.** Загрузите данные за май 2016 года."
   ]
  },
  {
   "cell_type": "code",
   "execution_count": 2,
   "id": "8ea4fe70",
   "metadata": {},
   "outputs": [],
   "source": [
    "fileName = \"yellow_tripdata_2016-06.csv\""
   ]
  },
  {
   "cell_type": "code",
   "execution_count": 5,
   "id": "6be54293",
   "metadata": {},
   "outputs": [],
   "source": [
    "taxi = pd.read_csv(fileName)\n"
   ]
  },
  {
   "cell_type": "code",
   "execution_count": 6,
   "id": "3f91ed94",
   "metadata": {},
   "outputs": [
    {
     "data": {
      "text/html": [
       "<div>\n",
       "<style scoped>\n",
       "    .dataframe tbody tr th:only-of-type {\n",
       "        vertical-align: middle;\n",
       "    }\n",
       "\n",
       "    .dataframe tbody tr th {\n",
       "        vertical-align: top;\n",
       "    }\n",
       "\n",
       "    .dataframe thead th {\n",
       "        text-align: right;\n",
       "    }\n",
       "</style>\n",
       "<table border=\"1\" class=\"dataframe\">\n",
       "  <thead>\n",
       "    <tr style=\"text-align: right;\">\n",
       "      <th></th>\n",
       "      <th>VendorID</th>\n",
       "      <th>tpep_pickup_datetime</th>\n",
       "      <th>tpep_dropoff_datetime</th>\n",
       "      <th>passenger_count</th>\n",
       "      <th>trip_distance</th>\n",
       "      <th>pickup_longitude</th>\n",
       "      <th>pickup_latitude</th>\n",
       "      <th>RatecodeID</th>\n",
       "      <th>store_and_fwd_flag</th>\n",
       "      <th>dropoff_longitude</th>\n",
       "      <th>dropoff_latitude</th>\n",
       "      <th>payment_type</th>\n",
       "      <th>fare_amount</th>\n",
       "      <th>extra</th>\n",
       "      <th>mta_tax</th>\n",
       "      <th>tip_amount</th>\n",
       "      <th>tolls_amount</th>\n",
       "      <th>improvement_surcharge</th>\n",
       "      <th>total_amount</th>\n",
       "    </tr>\n",
       "  </thead>\n",
       "  <tbody>\n",
       "    <tr>\n",
       "      <th>0</th>\n",
       "      <td>2</td>\n",
       "      <td>2016-06-09 21:06:36</td>\n",
       "      <td>2016-06-09 21:13:08</td>\n",
       "      <td>2</td>\n",
       "      <td>0.79</td>\n",
       "      <td>-73.983360</td>\n",
       "      <td>40.760937</td>\n",
       "      <td>1</td>\n",
       "      <td>N</td>\n",
       "      <td>-73.977463</td>\n",
       "      <td>40.753979</td>\n",
       "      <td>2</td>\n",
       "      <td>6.0</td>\n",
       "      <td>0.5</td>\n",
       "      <td>0.5</td>\n",
       "      <td>0.00</td>\n",
       "      <td>0.0</td>\n",
       "      <td>0.3</td>\n",
       "      <td>7.30</td>\n",
       "    </tr>\n",
       "    <tr>\n",
       "      <th>1</th>\n",
       "      <td>2</td>\n",
       "      <td>2016-06-09 21:06:36</td>\n",
       "      <td>2016-06-09 21:35:11</td>\n",
       "      <td>1</td>\n",
       "      <td>5.22</td>\n",
       "      <td>-73.981720</td>\n",
       "      <td>40.736668</td>\n",
       "      <td>1</td>\n",
       "      <td>N</td>\n",
       "      <td>-73.981636</td>\n",
       "      <td>40.670242</td>\n",
       "      <td>1</td>\n",
       "      <td>22.0</td>\n",
       "      <td>0.5</td>\n",
       "      <td>0.5</td>\n",
       "      <td>4.00</td>\n",
       "      <td>0.0</td>\n",
       "      <td>0.3</td>\n",
       "      <td>27.30</td>\n",
       "    </tr>\n",
       "    <tr>\n",
       "      <th>2</th>\n",
       "      <td>2</td>\n",
       "      <td>2016-06-09 21:06:36</td>\n",
       "      <td>2016-06-09 21:13:10</td>\n",
       "      <td>1</td>\n",
       "      <td>1.26</td>\n",
       "      <td>-73.994316</td>\n",
       "      <td>40.751072</td>\n",
       "      <td>1</td>\n",
       "      <td>N</td>\n",
       "      <td>-74.004234</td>\n",
       "      <td>40.742168</td>\n",
       "      <td>1</td>\n",
       "      <td>6.5</td>\n",
       "      <td>0.5</td>\n",
       "      <td>0.5</td>\n",
       "      <td>1.56</td>\n",
       "      <td>0.0</td>\n",
       "      <td>0.3</td>\n",
       "      <td>9.36</td>\n",
       "    </tr>\n",
       "    <tr>\n",
       "      <th>3</th>\n",
       "      <td>2</td>\n",
       "      <td>2016-06-09 21:06:36</td>\n",
       "      <td>2016-06-09 21:36:10</td>\n",
       "      <td>1</td>\n",
       "      <td>7.39</td>\n",
       "      <td>-73.982361</td>\n",
       "      <td>40.773891</td>\n",
       "      <td>1</td>\n",
       "      <td>N</td>\n",
       "      <td>-73.929466</td>\n",
       "      <td>40.851540</td>\n",
       "      <td>1</td>\n",
       "      <td>26.0</td>\n",
       "      <td>0.5</td>\n",
       "      <td>0.5</td>\n",
       "      <td>1.00</td>\n",
       "      <td>0.0</td>\n",
       "      <td>0.3</td>\n",
       "      <td>28.30</td>\n",
       "    </tr>\n",
       "    <tr>\n",
       "      <th>4</th>\n",
       "      <td>2</td>\n",
       "      <td>2016-06-09 21:06:36</td>\n",
       "      <td>2016-06-09 21:23:23</td>\n",
       "      <td>1</td>\n",
       "      <td>3.10</td>\n",
       "      <td>-73.987106</td>\n",
       "      <td>40.733173</td>\n",
       "      <td>1</td>\n",
       "      <td>N</td>\n",
       "      <td>-73.985909</td>\n",
       "      <td>40.766445</td>\n",
       "      <td>1</td>\n",
       "      <td>13.5</td>\n",
       "      <td>0.5</td>\n",
       "      <td>0.5</td>\n",
       "      <td>2.96</td>\n",
       "      <td>0.0</td>\n",
       "      <td>0.3</td>\n",
       "      <td>17.76</td>\n",
       "    </tr>\n",
       "  </tbody>\n",
       "</table>\n",
       "</div>"
      ],
      "text/plain": [
       "   VendorID tpep_pickup_datetime tpep_dropoff_datetime  passenger_count  \\\n",
       "0         2  2016-06-09 21:06:36   2016-06-09 21:13:08                2   \n",
       "1         2  2016-06-09 21:06:36   2016-06-09 21:35:11                1   \n",
       "2         2  2016-06-09 21:06:36   2016-06-09 21:13:10                1   \n",
       "3         2  2016-06-09 21:06:36   2016-06-09 21:36:10                1   \n",
       "4         2  2016-06-09 21:06:36   2016-06-09 21:23:23                1   \n",
       "\n",
       "   trip_distance  pickup_longitude  pickup_latitude  RatecodeID  \\\n",
       "0           0.79        -73.983360        40.760937           1   \n",
       "1           5.22        -73.981720        40.736668           1   \n",
       "2           1.26        -73.994316        40.751072           1   \n",
       "3           7.39        -73.982361        40.773891           1   \n",
       "4           3.10        -73.987106        40.733173           1   \n",
       "\n",
       "  store_and_fwd_flag  dropoff_longitude  dropoff_latitude  payment_type  \\\n",
       "0                  N         -73.977463         40.753979             2   \n",
       "1                  N         -73.981636         40.670242             1   \n",
       "2                  N         -74.004234         40.742168             1   \n",
       "3                  N         -73.929466         40.851540             1   \n",
       "4                  N         -73.985909         40.766445             1   \n",
       "\n",
       "   fare_amount  extra  mta_tax  tip_amount  tolls_amount  \\\n",
       "0          6.0    0.5      0.5        0.00           0.0   \n",
       "1         22.0    0.5      0.5        4.00           0.0   \n",
       "2          6.5    0.5      0.5        1.56           0.0   \n",
       "3         26.0    0.5      0.5        1.00           0.0   \n",
       "4         13.5    0.5      0.5        2.96           0.0   \n",
       "\n",
       "   improvement_surcharge  total_amount  \n",
       "0                    0.3          7.30  \n",
       "1                    0.3         27.30  \n",
       "2                    0.3          9.36  \n",
       "3                    0.3         28.30  \n",
       "4                    0.3         17.76  "
      ]
     },
     "execution_count": 6,
     "metadata": {},
     "output_type": "execute_result"
    }
   ],
   "source": [
    "taxi.head(5)"
   ]
  },
  {
   "cell_type": "code",
   "execution_count": 7,
   "id": "fb3ee87a",
   "metadata": {},
   "outputs": [
    {
     "data": {
      "text/plain": [
       "(11135470, 19)"
      ]
     },
     "execution_count": 7,
     "metadata": {},
     "output_type": "execute_result"
    }
   ],
   "source": [
    "taxi.shape"
   ]
  },
  {
   "cell_type": "markdown",
   "id": "a6f14c52",
   "metadata": {},
   "source": [
    "**2.** Проведите фильтрацию: удалите поездки с\n",
    "\n",
    "- нулевой длительностью\n",
    "- нулевым количеством пассажиров\n",
    "- нулевым расстоянием поездки по счётчику\n",
    "- координатами начала, не попадающими в прямоугольник Нью-Йорка"
   ]
  },
  {
   "cell_type": "markdown",
   "id": "07c597a3",
   "metadata": {},
   "source": [
    "Обработайте сырые данные по следующей схеме."
   ]
  },
  {
   "cell_type": "markdown",
   "id": "f88e9c5f",
   "metadata": {},
   "source": [
    "- Почистите данные от ошибок и аномалий.\n",
    "- Отбросьте минуты и секунды во времени начала поездки.\n",
    "- Нью-Йорк вписан в прямоугольник от -74.25559 до -73.70001 градусов долготы и от 40.49612 до 40.91553 широты. Разбейте этот прямоугольник на 2500 одинаковых прямоугольных областей — по 50 интервалов вдоль каждой оси.\n",
    "- Посчитайте количество поездок за каждый час из каждой области. Не забудьте, что если в сырых данных для какой-то пары час-область нет ни одной записи, то в агрегированных данных для неё должен стоять 0."
   ]
  },
  {
   "cell_type": "code",
   "execution_count": 8,
   "id": "6ae20709",
   "metadata": {},
   "outputs": [],
   "source": [
    "# Нью-Йорк вписан в прямоугольник\n",
    "West = -74.25559\n",
    "East = -73.70001\n",
    "South = 40.49612\n",
    "North = 40.91553"
   ]
  },
  {
   "cell_type": "code",
   "execution_count": 9,
   "id": "5085d2d3",
   "metadata": {},
   "outputs": [],
   "source": [
    "taxi = taxi[(taxi.trip_distance != 0) & \n",
    "     (taxi.passenger_count != 0) & \n",
    "     (taxi.tpep_pickup_datetime != taxi.tpep_dropoff_datetime) &\n",
    "    (taxi.pickup_longitude >= West) & (taxi.pickup_longitude <= East)  &\n",
    "    (taxi.pickup_latitude >= South) & (taxi.pickup_latitude <= North)]\n",
    "\n",
    "#taxi.dropna(inplace=True)"
   ]
  },
  {
   "cell_type": "code",
   "execution_count": 10,
   "id": "c7b5b52f",
   "metadata": {},
   "outputs": [],
   "source": [
    "taxi['tpep_pickup_date_floor'] = pd.to_datetime(taxi.tpep_pickup_datetime).dt.floor('H')"
   ]
  },
  {
   "cell_type": "code",
   "execution_count": 11,
   "id": "dbfa9f99",
   "metadata": {},
   "outputs": [
    {
     "data": {
      "text/plain": [
       "(10936046, 20)"
      ]
     },
     "execution_count": 11,
     "metadata": {},
     "output_type": "execute_result"
    }
   ],
   "source": [
    "taxi.shape"
   ]
  },
  {
   "cell_type": "markdown",
   "id": "e3c1881b",
   "metadata": {},
   "source": [
    "В дальнейшем, когда вы будете предсказывать получившиеся ряды, нужно будет загружать ваши прогнозы на kaggle, поэтому нужно, чтобы идентификаторы ячеек были определены однозначно. В следующем файле даны идентификаторы ячеек, которые вам нужно использовать, и географические координаты их границ:"
   ]
  },
  {
   "cell_type": "code",
   "execution_count": 12,
   "id": "43218bfd",
   "metadata": {},
   "outputs": [],
   "source": [
    "regions = pd.read_csv('regions.csv', sep=';')"
   ]
  },
  {
   "cell_type": "code",
   "execution_count": 13,
   "id": "bdbc3868",
   "metadata": {},
   "outputs": [
    {
     "data": {
      "text/html": [
       "<div>\n",
       "<style scoped>\n",
       "    .dataframe tbody tr th:only-of-type {\n",
       "        vertical-align: middle;\n",
       "    }\n",
       "\n",
       "    .dataframe tbody tr th {\n",
       "        vertical-align: top;\n",
       "    }\n",
       "\n",
       "    .dataframe thead th {\n",
       "        text-align: right;\n",
       "    }\n",
       "</style>\n",
       "<table border=\"1\" class=\"dataframe\">\n",
       "  <thead>\n",
       "    <tr style=\"text-align: right;\">\n",
       "      <th></th>\n",
       "      <th>region</th>\n",
       "      <th>west</th>\n",
       "      <th>east</th>\n",
       "      <th>south</th>\n",
       "      <th>north</th>\n",
       "    </tr>\n",
       "  </thead>\n",
       "  <tbody>\n",
       "    <tr>\n",
       "      <th>0</th>\n",
       "      <td>1</td>\n",
       "      <td>-74.25559</td>\n",
       "      <td>-74.244478</td>\n",
       "      <td>40.496120</td>\n",
       "      <td>40.504508</td>\n",
       "    </tr>\n",
       "    <tr>\n",
       "      <th>1</th>\n",
       "      <td>2</td>\n",
       "      <td>-74.25559</td>\n",
       "      <td>-74.244478</td>\n",
       "      <td>40.504508</td>\n",
       "      <td>40.512896</td>\n",
       "    </tr>\n",
       "    <tr>\n",
       "      <th>2</th>\n",
       "      <td>3</td>\n",
       "      <td>-74.25559</td>\n",
       "      <td>-74.244478</td>\n",
       "      <td>40.512896</td>\n",
       "      <td>40.521285</td>\n",
       "    </tr>\n",
       "    <tr>\n",
       "      <th>3</th>\n",
       "      <td>4</td>\n",
       "      <td>-74.25559</td>\n",
       "      <td>-74.244478</td>\n",
       "      <td>40.521285</td>\n",
       "      <td>40.529673</td>\n",
       "    </tr>\n",
       "    <tr>\n",
       "      <th>4</th>\n",
       "      <td>5</td>\n",
       "      <td>-74.25559</td>\n",
       "      <td>-74.244478</td>\n",
       "      <td>40.529673</td>\n",
       "      <td>40.538061</td>\n",
       "    </tr>\n",
       "  </tbody>\n",
       "</table>\n",
       "</div>"
      ],
      "text/plain": [
       "   region      west       east      south      north\n",
       "0       1 -74.25559 -74.244478  40.496120  40.504508\n",
       "1       2 -74.25559 -74.244478  40.504508  40.512896\n",
       "2       3 -74.25559 -74.244478  40.512896  40.521285\n",
       "3       4 -74.25559 -74.244478  40.521285  40.529673\n",
       "4       5 -74.25559 -74.244478  40.529673  40.538061"
      ]
     },
     "execution_count": 13,
     "metadata": {},
     "output_type": "execute_result"
    }
   ],
   "source": [
    "regions.head()"
   ]
  },
  {
   "cell_type": "markdown",
   "id": "cc618f6b",
   "metadata": {},
   "source": [
    "Разбиваем записи поездок такси на 2500 одинаковых прямоугольных областей — по 50 интервалов вдоль каждой оси"
   ]
  },
  {
   "cell_type": "code",
   "execution_count": 14,
   "id": "9e415078",
   "metadata": {},
   "outputs": [],
   "source": [
    "def set_ceils(dataset, number_of_ceils=50, W=West, E=East, S=South, N=North):\n",
    "    step_longitude = (E-W)/number_of_ceils\n",
    "    step_latitude = (N-S)/number_of_ceils\n",
    "    dataset['longitude_num'] = (np.floor((taxi.pickup_longitude - W) / step_longitude))\n",
    "    dataset['latitude_num'] = (np.floor((taxi.pickup_latitude - S)/ step_latitude))\n",
    "    dataset['region'] = dataset['longitude_num'] * number_of_ceils + dataset['latitude_num'] + 1"
   ]
  },
  {
   "cell_type": "code",
   "execution_count": 15,
   "id": "27902c9c",
   "metadata": {},
   "outputs": [
    {
     "name": "stdout",
     "output_type": "stream",
     "text": [
      "Wall time: 1.37 s\n"
     ]
    }
   ],
   "source": [
    "%%time\n",
    "set_ceils(taxi)\n",
    "\n",
    "taxi.drop(['longitude_num', 'latitude_num'], axis=1, inplace=True)"
   ]
  },
  {
   "cell_type": "markdown",
   "id": "e03d44a2",
   "metadata": {},
   "source": [
    "**3.** Агрегируйте данные за май 2016 года по часам и областям (можно использовать функцию stats.binned_statistic_2d, с которой вы сталкивались в заданиях четвёртого курса). Не забудьте проверить, что идентификаторы, которые вы присваиваете ячейкам, соответствуют приложенному выше файлу"
   ]
  },
  {
   "cell_type": "code",
   "execution_count": 16,
   "id": "d356a33f",
   "metadata": {
    "scrolled": true
   },
   "outputs": [],
   "source": [
    "delta = (taxi['tpep_pickup_date_floor']-pd.to_datetime(\"2016-01-01 00:00:00\", format='%Y-%m-%d %H:%M:%S'))\n",
    "taxi['hours'] = delta.apply(lambda x: x.seconds/60/60 + 24*x.days)"
   ]
  },
  {
   "cell_type": "code",
   "execution_count": 17,
   "id": "e7ee7194",
   "metadata": {},
   "outputs": [],
   "source": [
    "min_hour = taxi['hours'].min()"
   ]
  },
  {
   "cell_type": "code",
   "execution_count": 18,
   "id": "9af5e5bc",
   "metadata": {
    "scrolled": true
   },
   "outputs": [],
   "source": [
    "num_regions = 2500\n",
    "num_hours_in_month = pd.Period(str(taxi['tpep_pickup_date_floor'].min())).days_in_month * 24\n",
    "\n",
    "bins_region = np.linspace(1, num_regions+1, num = num_regions+1)\n",
    "bins_hours = np.linspace(min_hour, min_hour + num_hours_in_month, num = num_hours_in_month+1)\n",
    "\n",
    "binned_statistic = stats.binned_statistic_2d(taxi.hours, \n",
    "                                             taxi.region, \n",
    "                                             None, \n",
    "                                             'count',\n",
    "                                             bins=[bins_hours, bins_region])"
   ]
  },
  {
   "cell_type": "code",
   "execution_count": 19,
   "id": "45e85f0b",
   "metadata": {
    "scrolled": true
   },
   "outputs": [],
   "source": [
    "stat_data = pd.DataFrame(binned_statistic.statistic, \n",
    "                         columns=np.arange(1,2501), \n",
    "                         index = pd.date_range(start = str(taxi['tpep_pickup_date_floor'].min()), periods = num_hours_in_month, freq = 'H'))"
   ]
  },
  {
   "cell_type": "markdown",
   "id": "a0fc2dc6",
   "metadata": {},
   "source": [
    "**4.** Выведите первые строки полученной таблицы с указанием времени, идентификатора зоны и количества поездок."
   ]
  },
  {
   "cell_type": "markdown",
   "id": "5f08ad51",
   "metadata": {},
   "source": [
    "- Столбцы - номера регионов\n",
    "- Строки - номер часа (отсчитывая от 2016-05-01 00:00)  \n",
    "- Значения - количество поездок\n",
    "\n",
    "Полученная таблица:"
   ]
  },
  {
   "cell_type": "code",
   "execution_count": 33,
   "id": "8f481eca",
   "metadata": {},
   "outputs": [
    {
     "data": {
      "text/plain": [
       "(720, 2500)"
      ]
     },
     "execution_count": 33,
     "metadata": {},
     "output_type": "execute_result"
    }
   ],
   "source": [
    "stat_data.shape"
   ]
  },
  {
   "cell_type": "code",
   "execution_count": 61,
   "id": "51ae092f",
   "metadata": {
    "scrolled": true
   },
   "outputs": [
    {
     "data": {
      "text/html": [
       "<div>\n",
       "<style scoped>\n",
       "    .dataframe tbody tr th:only-of-type {\n",
       "        vertical-align: middle;\n",
       "    }\n",
       "\n",
       "    .dataframe tbody tr th {\n",
       "        vertical-align: top;\n",
       "    }\n",
       "\n",
       "    .dataframe thead th {\n",
       "        text-align: right;\n",
       "    }\n",
       "</style>\n",
       "<table border=\"1\" class=\"dataframe\">\n",
       "  <thead>\n",
       "    <tr style=\"text-align: right;\">\n",
       "      <th></th>\n",
       "      <th>1529</th>\n",
       "      <th>1530</th>\n",
       "      <th>1531</th>\n",
       "      <th>1532</th>\n",
       "      <th>1533</th>\n",
       "      <th>1534</th>\n",
       "      <th>1535</th>\n",
       "      <th>1536</th>\n",
       "      <th>1537</th>\n",
       "      <th>1538</th>\n",
       "      <th>1539</th>\n",
       "      <th>1540</th>\n",
       "    </tr>\n",
       "  </thead>\n",
       "  <tbody>\n",
       "    <tr>\n",
       "      <th>2016-06-13 22:00:00</th>\n",
       "      <td>0.0</td>\n",
       "      <td>6.0</td>\n",
       "      <td>2.0</td>\n",
       "      <td>7.0</td>\n",
       "      <td>10.0</td>\n",
       "      <td>2.0</td>\n",
       "      <td>0.0</td>\n",
       "      <td>0.0</td>\n",
       "      <td>0.0</td>\n",
       "      <td>1.0</td>\n",
       "      <td>0.0</td>\n",
       "      <td>0.0</td>\n",
       "    </tr>\n",
       "    <tr>\n",
       "      <th>2016-06-13 23:00:00</th>\n",
       "      <td>0.0</td>\n",
       "      <td>6.0</td>\n",
       "      <td>1.0</td>\n",
       "      <td>9.0</td>\n",
       "      <td>8.0</td>\n",
       "      <td>3.0</td>\n",
       "      <td>0.0</td>\n",
       "      <td>0.0</td>\n",
       "      <td>0.0</td>\n",
       "      <td>0.0</td>\n",
       "      <td>0.0</td>\n",
       "      <td>0.0</td>\n",
       "    </tr>\n",
       "    <tr>\n",
       "      <th>2016-06-14 00:00:00</th>\n",
       "      <td>0.0</td>\n",
       "      <td>5.0</td>\n",
       "      <td>4.0</td>\n",
       "      <td>15.0</td>\n",
       "      <td>10.0</td>\n",
       "      <td>2.0</td>\n",
       "      <td>0.0</td>\n",
       "      <td>0.0</td>\n",
       "      <td>0.0</td>\n",
       "      <td>0.0</td>\n",
       "      <td>0.0</td>\n",
       "      <td>0.0</td>\n",
       "    </tr>\n",
       "    <tr>\n",
       "      <th>2016-06-14 01:00:00</th>\n",
       "      <td>0.0</td>\n",
       "      <td>7.0</td>\n",
       "      <td>2.0</td>\n",
       "      <td>21.0</td>\n",
       "      <td>5.0</td>\n",
       "      <td>5.0</td>\n",
       "      <td>0.0</td>\n",
       "      <td>0.0</td>\n",
       "      <td>0.0</td>\n",
       "      <td>0.0</td>\n",
       "      <td>0.0</td>\n",
       "      <td>1.0</td>\n",
       "    </tr>\n",
       "    <tr>\n",
       "      <th>2016-06-14 02:00:00</th>\n",
       "      <td>0.0</td>\n",
       "      <td>3.0</td>\n",
       "      <td>1.0</td>\n",
       "      <td>2.0</td>\n",
       "      <td>11.0</td>\n",
       "      <td>2.0</td>\n",
       "      <td>0.0</td>\n",
       "      <td>0.0</td>\n",
       "      <td>0.0</td>\n",
       "      <td>0.0</td>\n",
       "      <td>0.0</td>\n",
       "      <td>1.0</td>\n",
       "    </tr>\n",
       "    <tr>\n",
       "      <th>2016-06-14 03:00:00</th>\n",
       "      <td>0.0</td>\n",
       "      <td>3.0</td>\n",
       "      <td>1.0</td>\n",
       "      <td>4.0</td>\n",
       "      <td>7.0</td>\n",
       "      <td>1.0</td>\n",
       "      <td>0.0</td>\n",
       "      <td>0.0</td>\n",
       "      <td>0.0</td>\n",
       "      <td>1.0</td>\n",
       "      <td>1.0</td>\n",
       "      <td>0.0</td>\n",
       "    </tr>\n",
       "    <tr>\n",
       "      <th>2016-06-14 04:00:00</th>\n",
       "      <td>1.0</td>\n",
       "      <td>9.0</td>\n",
       "      <td>2.0</td>\n",
       "      <td>3.0</td>\n",
       "      <td>11.0</td>\n",
       "      <td>0.0</td>\n",
       "      <td>0.0</td>\n",
       "      <td>0.0</td>\n",
       "      <td>0.0</td>\n",
       "      <td>0.0</td>\n",
       "      <td>2.0</td>\n",
       "      <td>0.0</td>\n",
       "    </tr>\n",
       "    <tr>\n",
       "      <th>2016-06-14 05:00:00</th>\n",
       "      <td>0.0</td>\n",
       "      <td>23.0</td>\n",
       "      <td>0.0</td>\n",
       "      <td>4.0</td>\n",
       "      <td>10.0</td>\n",
       "      <td>2.0</td>\n",
       "      <td>0.0</td>\n",
       "      <td>0.0</td>\n",
       "      <td>0.0</td>\n",
       "      <td>0.0</td>\n",
       "      <td>0.0</td>\n",
       "      <td>1.0</td>\n",
       "    </tr>\n",
       "    <tr>\n",
       "      <th>2016-06-14 06:00:00</th>\n",
       "      <td>1.0</td>\n",
       "      <td>24.0</td>\n",
       "      <td>2.0</td>\n",
       "      <td>7.0</td>\n",
       "      <td>14.0</td>\n",
       "      <td>8.0</td>\n",
       "      <td>0.0</td>\n",
       "      <td>0.0</td>\n",
       "      <td>0.0</td>\n",
       "      <td>0.0</td>\n",
       "      <td>1.0</td>\n",
       "      <td>0.0</td>\n",
       "    </tr>\n",
       "    <tr>\n",
       "      <th>2016-06-14 07:00:00</th>\n",
       "      <td>2.0</td>\n",
       "      <td>43.0</td>\n",
       "      <td>2.0</td>\n",
       "      <td>5.0</td>\n",
       "      <td>13.0</td>\n",
       "      <td>6.0</td>\n",
       "      <td>0.0</td>\n",
       "      <td>0.0</td>\n",
       "      <td>0.0</td>\n",
       "      <td>0.0</td>\n",
       "      <td>0.0</td>\n",
       "      <td>1.0</td>\n",
       "    </tr>\n",
       "  </tbody>\n",
       "</table>\n",
       "</div>"
      ],
      "text/plain": [
       "                     1529  1530  1531  1532  1533  1534  1535  1536  1537  \\\n",
       "2016-06-13 22:00:00   0.0   6.0   2.0   7.0  10.0   2.0   0.0   0.0   0.0   \n",
       "2016-06-13 23:00:00   0.0   6.0   1.0   9.0   8.0   3.0   0.0   0.0   0.0   \n",
       "2016-06-14 00:00:00   0.0   5.0   4.0  15.0  10.0   2.0   0.0   0.0   0.0   \n",
       "2016-06-14 01:00:00   0.0   7.0   2.0  21.0   5.0   5.0   0.0   0.0   0.0   \n",
       "2016-06-14 02:00:00   0.0   3.0   1.0   2.0  11.0   2.0   0.0   0.0   0.0   \n",
       "2016-06-14 03:00:00   0.0   3.0   1.0   4.0   7.0   1.0   0.0   0.0   0.0   \n",
       "2016-06-14 04:00:00   1.0   9.0   2.0   3.0  11.0   0.0   0.0   0.0   0.0   \n",
       "2016-06-14 05:00:00   0.0  23.0   0.0   4.0  10.0   2.0   0.0   0.0   0.0   \n",
       "2016-06-14 06:00:00   1.0  24.0   2.0   7.0  14.0   8.0   0.0   0.0   0.0   \n",
       "2016-06-14 07:00:00   2.0  43.0   2.0   5.0  13.0   6.0   0.0   0.0   0.0   \n",
       "\n",
       "                     1538  1539  1540  \n",
       "2016-06-13 22:00:00   1.0   0.0   0.0  \n",
       "2016-06-13 23:00:00   0.0   0.0   0.0  \n",
       "2016-06-14 00:00:00   0.0   0.0   0.0  \n",
       "2016-06-14 01:00:00   0.0   0.0   1.0  \n",
       "2016-06-14 02:00:00   0.0   0.0   1.0  \n",
       "2016-06-14 03:00:00   1.0   1.0   0.0  \n",
       "2016-06-14 04:00:00   0.0   2.0   0.0  \n",
       "2016-06-14 05:00:00   0.0   0.0   1.0  \n",
       "2016-06-14 06:00:00   0.0   1.0   0.0  \n",
       "2016-06-14 07:00:00   0.0   0.0   1.0  "
      ]
     },
     "execution_count": 61,
     "metadata": {},
     "output_type": "execute_result"
    }
   ],
   "source": [
    "stat_data.iloc[310:320][stat_data.columns[1528:1540]]"
   ]
  },
  {
   "cell_type": "code",
   "execution_count": null,
   "id": "e5597b8c",
   "metadata": {},
   "outputs": [],
   "source": []
  },
  {
   "cell_type": "markdown",
   "id": "027b01ce",
   "metadata": {},
   "source": [
    "**5.** Постройте график количества поездок жёлтого такси из ячейки, содержащей Empire State Building."
   ]
  },
  {
   "cell_type": "code",
   "execution_count": 19,
   "id": "689f6305",
   "metadata": {},
   "outputs": [],
   "source": [
    "#Longitude of Empire State Building -73.985664\n",
    "#Latitude of Empire State Building: 40.748441\n",
    "ESB_long = -73.985664\n",
    "ESB_lat  =  40.748441"
   ]
  },
  {
   "cell_type": "code",
   "execution_count": 20,
   "id": "7f7757ad",
   "metadata": {},
   "outputs": [],
   "source": [
    "# Функция для получения номера региона по координатам \n",
    "def get_region(longitude, latitude, number_of_ceils=50):\n",
    "    step_longitude = (East-West)/number_of_ceils\n",
    "    step_latitude = (North-South)/number_of_ceils\n",
    "    longitude_num = (np.floor((longitude - West) / step_longitude))\n",
    "    latitude_num = (np.floor((latitude - South)/ step_latitude))\n",
    "    return longitude_num * number_of_ceils + latitude_num + 1"
   ]
  },
  {
   "cell_type": "code",
   "execution_count": 21,
   "id": "f7e56830",
   "metadata": {},
   "outputs": [],
   "source": [
    "ESB_reg = get_region(ESB_long, ESB_lat)"
   ]
  },
  {
   "cell_type": "code",
   "execution_count": 22,
   "id": "f875c864",
   "metadata": {},
   "outputs": [
    {
     "name": "stdout",
     "output_type": "stream",
     "text": [
      "Номер региона содержащего Empire State Building: 1231 \n"
     ]
    }
   ],
   "source": [
    "print(\"Номер региона содержащего Empire State Building: %d \" % ESB_reg)"
   ]
  },
  {
   "cell_type": "code",
   "execution_count": 23,
   "id": "e3320c4f",
   "metadata": {},
   "outputs": [
    {
     "data": {
      "image/png": "[encoded data removed]",
      "text/plain": [
       "<Figure size 1152x360 with 1 Axes>"
      ]
     },
     "metadata": {
      "needs_background": "light"
     },
     "output_type": "display_data"
    }
   ],
   "source": [
    "plt.figure(figsize=(16,5))\n",
    "plt.plot(stat_data.index, stat_data.iloc[:, int(ESB_reg)-1])\n",
    "plt.gca().set(xlabel = 'Дата', ylabel = 'Число поездок', title = 'Число поездок жёлтого такси из ячейки, содержащей Empire State Building')\n",
    "plt.show()"
   ]
  },
  {
   "cell_type": "code",
   "execution_count": null,
   "id": "b4f80258",
   "metadata": {},
   "outputs": [],
   "source": []
  },
  {
   "cell_type": "markdown",
   "id": "521e52d5",
   "metadata": {},
   "source": [
    "**6.** Посчитайте, сколько в мае 2016 было пар час-ячейка, для которых не было совершено ни одной поездки."
   ]
  },
  {
   "cell_type": "code",
   "execution_count": 25,
   "id": "e2f860df",
   "metadata": {},
   "outputs": [
    {
     "data": {
      "text/plain": [
       "1665094"
      ]
     },
     "execution_count": 25,
     "metadata": {},
     "output_type": "execute_result"
    }
   ],
   "source": [
    "allvalues = stat_data.values.reshape(stat_data.shape[0] * stat_data.shape[1])\n",
    "np.sum((allvalues == 0).astype(int))"
   ]
  },
  {
   "cell_type": "code",
   "execution_count": 26,
   "id": "845767a8",
   "metadata": {},
   "outputs": [],
   "source": [
    "stat_data.to_csv(fileName+\"-agregated.csv\",index=True)\n"
   ]
  }
 ],
 "metadata": {
  "kernelspec": {
   "display_name": "Python 3 (ipykernel)",
   "language": "python",
   "name": "python3"
  },
  "language_info": {
   "codemirror_mode": {
    "name": "ipython",
    "version": 3
   },
   "file_extension": ".py",
   "mimetype": "text/x-python",
   "name": "python",
   "nbconvert_exporter": "python",
   "pygments_lexer": "ipython3",
   "version": "3.9.7"
  }
 },
 "nbformat": 4,
 "nbformat_minor": 5
}